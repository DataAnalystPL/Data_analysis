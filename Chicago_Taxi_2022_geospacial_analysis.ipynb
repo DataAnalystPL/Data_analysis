{
  "nbformat": 4,
  "nbformat_minor": 0,
  "metadata": {
    "colab": {
      "provenance": [],
      "authorship_tag": "ABX9TyNs4yL1SHk/QWD5PFvUeLcl",
      "include_colab_link": true
    },
    "kernelspec": {
      "name": "python3",
      "display_name": "Python 3"
    },
    "language_info": {
      "name": "python"
    }
  },
  "cells": [
    {
      "cell_type": "markdown",
      "metadata": {
        "id": "view-in-github",
        "colab_type": "text"
      },
      "source": [
        "<a href=\"https://colab.research.google.com/github/DataAnalystPL/Data_analysis/blob/main/Chicago_Taxi_2022_geospacial_analysis.ipynb\" target=\"_parent\"><img src=\"https://colab.research.google.com/assets/colab-badge.svg\" alt=\"Open In Colab\"/></a>"
      ]
    },
    {
      "cell_type": "code",
      "source": [
        "import folium\n",
        "from folium import plugins\n",
        "import pandas as pd\n",
        "import numpy as np\n",
        "import matplotlib.pyplot as plt\n",
        "import seaborn as sns\n",
        "from google.colab import drive"
      ],
      "metadata": {
        "id": "Eud-WPqoa1ZD"
      },
      "execution_count": null,
      "outputs": []
    },
    {
      "cell_type": "code",
      "source": [
        "drive.mount('/content/drive')"
      ],
      "metadata": {
        "id": "_HRUg2Q0bTbq"
      },
      "execution_count": null,
      "outputs": []
    },
    {
      "cell_type": "code",
      "source": [
        "file_path = '/content/drive/MyDrive/Taxi/Chicago Taxi 2022 - cleaned'"
      ],
      "metadata": {
        "id": "Mh9T2ywkbKHp"
      },
      "execution_count": null,
      "outputs": []
    },
    {
      "cell_type": "code",
      "source": [
        "df = pd.read_csv(file_path)"
      ],
      "metadata": {
        "id": "DmcEiBCobZPa"
      },
      "execution_count": null,
      "outputs": []
    },
    {
      "cell_type": "code",
      "execution_count": null,
      "metadata": {
        "id": "3QyLgNkPan3s"
      },
      "outputs": [],
      "source": [
        "file_path2 = '/content/drive/MyDrive/Taxi/Chicago Community Areas.csv'\n",
        "areas_names = pd.read_csv(file_path2)"
      ]
    },
    {
      "cell_type": "code",
      "source": [
        "areas_names.head()"
      ],
      "metadata": {
        "id": "HKQ_JYz9ayMB"
      },
      "execution_count": null,
      "outputs": []
    },
    {
      "cell_type": "code",
      "source": [
        "Chicago = folium.Map(location=[41.878876, -87.635918],\n",
        "                    zoom_start = 10,\n",
        "                    control_scale=True)\n",
        "zipcodes = \"https://data.cityofchicago.org/api/geospatial/gdcf-axmw?method=export&format=GeoJSON\"\n",
        "folium.GeoJson(zipcodes, name=\"Chicago Zipcodes\").add_to(Chicago)\n",
        "display(Chicago)"
      ],
      "metadata": {
        "id": "eUmIC5vua2mI"
      },
      "execution_count": null,
      "outputs": []
    },
    {
      "cell_type": "code",
      "source": [
        "pickup_areas = df.groupby('Pickup Community Area')['Taxi ID'].nunique().sort_values(ascending=False)"
      ],
      "metadata": {
        "id": "sKnyNnw5a4t6"
      },
      "execution_count": null,
      "outputs": []
    },
    {
      "cell_type": "code",
      "source": [
        "pickup_areas.plot(kind='bar', figsize=(12,4), title='Numbers of rides from each Community Area', color=palette[1])\n",
        "plt.show()"
      ],
      "metadata": {
        "id": "XtMq4OPCa523"
      },
      "execution_count": null,
      "outputs": []
    },
    {
      "cell_type": "code",
      "source": [
        "pickup_latitude    = df['Pickup Centroid Latitude']\n",
        "pickup_longitude   = df['Pickup Centroid Longitude']\n",
        "pickupheatmap = folium.Map(location=[41.878876,-87.635918],\n",
        "                     zoom_start = 10)\n",
        "folium.plugins.HeatMap(list(zip(pickup_latitude,\n",
        "                                pickup_longitude)),\n",
        "                       min_opacity = 500,\n",
        "                       radius=30,\n",
        "                       blur=20).add_to(pickupheatmap)\n",
        "plugins.Fullscreen(position='topright').add_to(pickupheatmap)"
      ],
      "metadata": {
        "id": "9uIbyg56a7O7"
      },
      "execution_count": null,
      "outputs": []
    },
    {
      "cell_type": "code",
      "source": [
        "pickupheatmap.save(\"pickup_heatmap.html\")"
      ],
      "metadata": {
        "id": "ycpqyDjaa8Rp"
      },
      "execution_count": null,
      "outputs": []
    },
    {
      "cell_type": "code",
      "source": [
        "dropoff_areas = df.groupby('Dropoff Community Area')['Taxi ID'].nunique().sort_values(ascending=False)"
      ],
      "metadata": {
        "id": "PZW168Yaa9h6"
      },
      "execution_count": null,
      "outputs": []
    },
    {
      "cell_type": "code",
      "source": [
        "dropoff_areas.plot(kind='bar', figsize=(12,4), title='Numbers of rides from each Community Area', color=palette[1])\n",
        "plt.show()"
      ],
      "metadata": {
        "id": "qS6zQkpQa-nz"
      },
      "execution_count": null,
      "outputs": []
    }
  ]
}